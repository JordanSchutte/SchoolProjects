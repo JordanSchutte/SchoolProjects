# Setup the Jupyter version of Dash
from jupyter_dash import JupyterDash

# Configure the necessary Python module imports for dashboard components
import dash_leaflet as dl
from dash import dcc
from dash import html
import plotly.express as px
from dash import dash_table
from dash.dependencies import Input, Output, State
import base64

# Configure OS routines
import os

# Configure the plotting routines
import numpy as np
import pandas as pd
import matplotlib.pyplot as plt

# Instantiate the MongoDBCRUD class
from crud_operations import MongoDBCRUD

###########################
# Data Manipulation / Model
###########################
username = "aacuser"
password = "StrongPassword"
host = "nv-desktop-services.apporto.com"
port = 30650
db_name = "AAC"
collection_name = "animals"

# Instantiate the MongoDBCRUD class
crud_obj = MongoDBCRUD(username, password, host, port, db_name, collection_name)

# Read data from MongoDB
df = pd.DataFrame.from_records(crud_obj.query_documents({}))
df.drop(columns=['_id'], inplace=True)

#########################
# Dashboard Layout / View
#########################
app = JupyterDash(__name__)

# Load Grazioso Salvare's logo
image_filename = 'grazioso_salvare_logo.PNG'
encoded_image = base64.b64encode(open(image_filename, 'rb').read())

app.layout = html.Div([
    html.Center(html.Img(src='data:image/png;base64,{}'.format(encoded_image.decode()))),
    html.Center(html.B(html.H1('Grazioso Salvare Dashboard'))),
    html.Hr(),
    html.Center(html.P("Created by Jordan Schutte")),
    dcc.Dropdown(
        id='filter-type',
        options=[
            {'label': 'Water Rescue', 'value': 'Water Rescue'},
            {'label': 'Mountain or Wilderness Rescue', 'value': 'Mountain or Wilderness Rescue'},
            {'label': 'Disaster or Individual Tracking', 'value': 'Disaster or Individual Tracking'}
        ],
        value=None,
    ),
    html.Hr(),
    dash_table.DataTable(
        id='datatable-id',
        columns=[{"name": i, "id": i, "deletable": False, "selectable": True} for i in df.columns],
        data=df.to_dict('records'),
        page_size=10,  # Number of rows per page
        filter_action="native",  # Enable filtering
        sort_action="native",  # Enable sorting
        sort_mode="multi",  # Allow multi-column sorting
        column_selectable="single",  # Allow single column selection
        row_selectable="single",  # Allow single row selection
        row_deletable=False,  # Disable row deletion
        selected_rows=[0],  # Select first row by default
        style_cell={'textAlign': 'left'}  # Align text to the left
    ),
    html.Br(),
    html.Hr(),
    dcc.Graph(id='graph-id'),
    html.Br(),
    html.Hr(),
    dl.Map(id='map-id', style={'width': '1000px', 'height': '500px'}, center=[30.75, -97.48], zoom=10, children=[
        dl.TileLayer(id="base-layer-id")
    ])
])

#############################################
# Interaction Between Components / Controller
#############################################
@app.callback(Output('datatable-id','data'),
              [Input('filter-type', 'value')])
def update_dashboard(filter_type):
    #Logic filter for Water Rescue
        if filter_type == 'WR':
            df = pd.DataFrame.from_records(crud_obj.query_documents({
                '$and':[{'breed':{'$in':['Chesa Bay Retr Mix',
                                         'Newfoundland Mix',
                                         'Labrador Retriever Mix']}},
                        {'sex_upon_outcome':'Intact Female'},
                        {'age_upon_outcome_in_weeks':{'$gte':26,'$lte':156}}]
            }))
            
        #Logic filter for Mountain/Wilderness Rescue    
        elif filter_type == 'MWR':            
            df = pd.DataFrame.from_records(crud_obj.query_documents({
                '$and':[{'breed':{'$in':['German Shepherd',
                                        'Alaskan Malamute',
                                        'Old English Sheepdog',
                                        'Rottweiler',
                                        'Siberian Husky']}},
                        {'sex_upon_outcome':'Intact Male'},
                        {'age_upon_outcome_in_weeks':{'$gte':26,'$lte':156}}]
            }))
            
        #Logic filter for Disaster Rescue / Individual Tracking   
        elif filter_type == 'DRIT':             
            df = pd.DataFrame.from_records(crud_obj.query_documents({
                '$and':[{'breed':{'$in':['German Shepherd',
                                        'Golden Retriever Mix',
                                        'Doberman Pinsch',
                                        'Rottweiler',
                                        'Bloodhound']}},
                        {'sex_upon_outcome':'Intact Male'},
                        {'age_upon_outcome_in_weeks':{'$gte':20,'$lte':300}}]
            }))
            
        #Return data table to initial state
        elif filter_type == 'RESET':
            df = pd.DataFrame.from_records(shelter.read({}))
            
        columns=[{"name": i, "id": i, "deletable": False, "selectable": True} for i in df.columns]
        data=df.to_dict('records')        
        
        return (data,columns)

@app.callback(
    Output('graph-id', "children"),
    [Input('datatable-id', "derived_virtual_data")])
def update_graphs(viewData):
    if viewData is None:
        return
    dff = pd.DataFrame.from_dict(viewData)
    fig = px.pie(dff, names='animal_type', title='Preferred Animals')
    return fig
    
#This callback will highlight a cell on the data table when the user selects it
@app.callback(
    Output('datatable-id', 'style_data_conditional'),
    [Input('datatable-id', 'selected_columns')]
)
def update_styles(selected_columns):
    return [{
        'if': { 'column_id': i },
        'background_color': '#D2F3FF'
    } for i in selected_columns]


# This callback will update the geo-location chart for the selected data entry
# derived_virtual_data will be the set of data available from the datatable in the form of 
# a dictionary.
# derived_virtual_selected_rows will be the selected row(s) in the table in the form of
# a list. For this application, we are only permitting single row selection so there is only
# one value in the list.
# The iloc method allows for a row, column notation to pull data from the datatable
@app.callback(
    Output('map-id', "children"),
    [Input('datatable-id', "derived_virtual_data"),
     Input('datatable-id', "derived_virtual_selected_rows")])
def update_map(viewData, index):  
    if viewData is None:
        return
    elif index is None:
        return
    
    dff = pd.DataFrame.from_dict(viewData)
    # Because we only allow single row selection, the list can be converted to a row index here
    if index is None:
        row = 0
    else: 
        row = index[0]
        
    # Austin TX is at [30.75,-97.48]
    return [
        dl.Map(style={'width': '1000px', 'height': '500px'}, center=[30.75,-97.48], zoom=10, children=[
            dl.TileLayer(id="base-layer-id"),
            dl.Marker(position=[dff.iloc[row,13],dff.iloc[row,14]], children=[
                dl.Tooltip(dff.iloc[row,4]),
                dl.Popup([
                    html.H1("Animal Name"),
                    html.P(dff.iloc[row,9])
                ])
            ])
        ])
    ]



app.run_server(debug=True)
